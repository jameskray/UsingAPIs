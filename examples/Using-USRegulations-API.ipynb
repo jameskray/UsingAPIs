{
 "cells": [
  {
   "cell_type": "markdown",
   "metadata": {},
   "source": [
    "### Using US Regulations API: \n",
    "This is a quick example using the US Regulations API to search for the first 10 documents relateing to a search term \n",
    "http://regulationsgov.github.io/developers/"
   ]
  },
  {
   "cell_type": "code",
   "execution_count": null,
   "metadata": {
    "collapsed": true
   },
   "outputs": [],
   "source": [
    "import requests"
   ]
  },
  {
   "cell_type": "code",
   "execution_count": null,
   "metadata": {
    "collapsed": true
   },
   "outputs": [],
   "source": [
    "#Set the key\n",
    "key = 'CMNULdXlDWKa1qCWQbSs0faWhldDg3pLIcRGBYIe'"
   ]
  },
  {
   "cell_type": "code",
   "execution_count": null,
   "metadata": {
    "collapsed": true
   },
   "outputs": [],
   "source": [
    "#Set the search term\n",
    "searchTerm = 'drinking water'"
   ]
  },
  {
   "cell_type": "code",
   "execution_count": null,
   "metadata": {},
   "outputs": [],
   "source": [
    "#Build the request\n",
    "endpointURL = 'https://api.data.gov/regulations/v3/documents'\n",
    "params = {'response_format':'json',\n",
    "          'api_key':key,\n",
    "          's':searchTerm,\n",
    "          'rpp':'10'            #results per page\n",
    "         }"
   ]
  },
  {
   "cell_type": "code",
   "execution_count": null,
   "metadata": {},
   "outputs": [],
   "source": [
    "#Get the response\n",
    "response = requests.get(endpointURL,params)"
   ]
  },
  {
   "cell_type": "code",
   "execution_count": null,
   "metadata": {},
   "outputs": [],
   "source": [
    "#Convert to a JSON object and get the 'documents' collection\n",
    "docs = response.json()['documents']"
   ]
  },
  {
   "cell_type": "code",
   "execution_count": null,
   "metadata": {},
   "outputs": [],
   "source": [
    "#Reveal the properties (keys) of this documents collection\n",
    "doc = docs[0]\n",
    "doc.keys()"
   ]
  },
  {
   "cell_type": "code",
   "execution_count": null,
   "metadata": {},
   "outputs": [],
   "source": [
    "#Loop through each document returned and print its posted data and title\n",
    "for doc in docs:\n",
    "    print doc['postedDate'],doc['docketTitle'],'\\n'"
   ]
  }
 ],
 "metadata": {
  "kernelspec": {
   "display_name": "Python 3",
   "language": "python",
   "name": "python3"
  },
  "language_info": {
   "codemirror_mode": {
    "name": "ipython",
    "version": 3
   },
   "file_extension": ".py",
   "mimetype": "text/x-python",
   "name": "python",
   "nbconvert_exporter": "python",
   "pygments_lexer": "ipython3",
   "version": "3.6.5"
  }
 },
 "nbformat": 4,
 "nbformat_minor": 2
}

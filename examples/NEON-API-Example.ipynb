{
 "cells": [
  {
   "cell_type": "markdown",
   "metadata": {},
   "source": [
    "### NEON API Example\n",
    "\n",
    "The National Ecological Observatory Network (NEON) continuously collects data across Long Term Ecological Research (LTER) sites and distributes these data via its web site. It's not a very friendly web site to use to grab data, requiring a lot of clicks and scrolls. However, they've provided an API so that we can write a script to collect data. \n",
    "\n",
    "This API, however, is also not as simple as many in that it has lots of nested attributes. For example, if you want to grab all the active ground beetle data, you first need to query the API for a list all LTER sites that have beetle data; this returns (among other things) a list of the URLs connecting to the actual data. So then you have to invoke another call to retrieve the actual data you want.\n",
    "\n",
    "But this serves as a good example showing that, despite its complexity, scripts can be written to navigate even convoluted APIs. \n",
    "\n",
    "Source: http://data.neonscience.org/data-api"
   ]
  },
  {
   "cell_type": "code",
   "execution_count": 1,
   "metadata": {},
   "outputs": [],
   "source": [
    "import requests"
   ]
  },
  {
   "cell_type": "code",
   "execution_count": 2,
   "metadata": {},
   "outputs": [],
   "source": [
    "#Build the URL\n",
    "url = 'http://data.neonscience.org/api/v0/products'\n",
    "params = {'data':{'productStatus':'ACTIVE',\n",
    "                  'productName':'Ground beetles sampled from pitfall traps'\n",
    "                 }\n",
    "         }"
   ]
  },
  {
   "cell_type": "code",
   "execution_count": null,
   "metadata": {},
   "outputs": [],
   "source": [
    "#Send the request, get the response\n",
    "response = requests.get(url,params)"
   ]
  },
  {
   "cell_type": "code",
   "execution_count": null,
   "metadata": {},
   "outputs": [],
   "source": [
    "#Interpret the response as a JSON object & reveal it's top-level keys\n",
    "jsonObj = response.json()\n",
    "jsonObj.keys()"
   ]
  },
  {
   "cell_type": "code",
   "execution_count": null,
   "metadata": {},
   "outputs": [],
   "source": [
    "#Retreive this 'data' collection; how many objects are returned? \n",
    "data = jsonObj['data']\n",
    "len(data)"
   ]
  },
  {
   "cell_type": "code",
   "execution_count": null,
   "metadata": {},
   "outputs": [],
   "source": [
    "#Inspect one of the data objects; what are its properties (i.e. its keys)?\n",
    "data[0].keys()"
   ]
  },
  {
   "cell_type": "code",
   "execution_count": null,
   "metadata": {},
   "outputs": [],
   "source": [
    "#Examine the 'siteCodes' object (for the first data object)\n",
    "# How many site codes in the firs data item?\n",
    "allSiteCodes = data[0]['siteCodes']\n",
    "len(allSiteCodes)"
   ]
  },
  {
   "cell_type": "code",
   "execution_count": null,
   "metadata": {},
   "outputs": [],
   "source": [
    "#What properties (i.e. keys) does the siteCodes object have?\n",
    "siteCodes = allSiteCodes[0]\n",
    "siteCodes.keys()"
   ]
  },
  {
   "cell_type": "code",
   "execution_count": null,
   "metadata": {},
   "outputs": [],
   "source": [
    "#What is 'siteCode' (of the first <siteCode> object in the first <data> object)?\n",
    "siteCode = siteCodes['siteCode']\n",
    "siteCode"
   ]
  },
  {
   "cell_type": "code",
   "execution_count": null,
   "metadata": {},
   "outputs": [],
   "source": [
    "#How about we loop through ALL 184 <data> objects and for each\n",
    "# loop through all the <siteCode> objects and print its siteCode\n",
    "for item in data:\n",
    "    for siteCode in item['siteCodes']:\n",
    "        print(siteCode['siteCode'])\n",
    "        "
   ]
  },
  {
   "cell_type": "code",
   "execution_count": null,
   "metadata": {},
   "outputs": [],
   "source": [
    "#Or, with a minor tweak, we can reveal all the data urls...\n",
    "# for each <siteCodes> collection included in each <data> object\n",
    "for item in data:\n",
    "    for siteCode in item['siteCodes']:\n",
    "        for url in (siteCode['availableDataUrls']):\n",
    "            #Here we print the URL, \n",
    "            #but we could write code to download the content at each site\n",
    "            print url\n",
    "        "
   ]
  },
  {
   "cell_type": "code",
   "execution_count": null,
   "metadata": {},
   "outputs": [],
   "source": []
  }
 ],
 "metadata": {
  "kernelspec": {
   "display_name": "Python 3",
   "language": "python",
   "name": "python3"
  },
  "language_info": {
   "codemirror_mode": {
    "name": "ipython",
    "version": 3
   },
   "file_extension": ".py",
   "mimetype": "text/x-python",
   "name": "python",
   "nbconvert_exporter": "python",
   "pygments_lexer": "ipython3",
   "version": "3.6.5"
  }
 },
 "nbformat": 4,
 "nbformat_minor": 2
}
